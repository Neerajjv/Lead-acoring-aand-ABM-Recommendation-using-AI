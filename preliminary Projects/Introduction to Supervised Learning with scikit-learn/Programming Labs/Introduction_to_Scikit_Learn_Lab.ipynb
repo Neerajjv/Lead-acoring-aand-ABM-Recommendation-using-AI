{
  "nbformat": 4,
  "nbformat_minor": 0,
  "metadata": {
    "colab": {
      "provenance": []
    },
    "kernelspec": {
      "name": "python3",
      "display_name": "Python 3"
    },
    "language_info": {
      "name": "python"
    }
  },
  "cells": [
    {
      "cell_type": "markdown",
      "source": [
        "# Introduction to Scikit-Learn Lab\n",
        "1) Importing required libraries"
      ],
      "metadata": {
        "id": "AXd7hWFTopby"
      }
    },
    {
      "cell_type": "code",
      "execution_count": 1,
      "metadata": {
        "id": "UU1G1VIRoc2Z"
      },
      "outputs": [],
      "source": [
        "import numpy as np\n",
        "import matplotlib.pyplot as plt"
      ]
    },
    {
      "cell_type": "markdown",
      "source": [
        "2) We will generate synthetic data to simulate a linear regression problem. Then, we will create an instance of the linear regression model."
      ],
      "metadata": {
        "id": "Wp2LZqqaowvp"
      }
    },
    {
      "cell_type": "code",
      "source": [
        "from sklearn.linear_model import LinearRegression\n",
        "# Generate synthetic data for the linear regression example\n",
        "np.random.seed(42)\n",
        "X = 2 * np.random.rand(100, 1)\n",
        "y = 4 + 3 * X + np.random.randn(100, 1)\n",
        "\n",
        "# Create an instance of the linear regression model\n",
        "regression_model = LinearRegression()"
      ],
      "metadata": {
        "id": "aUwwo-VzozGR"
      },
      "execution_count": 2,
      "outputs": []
    },
    {
      "cell_type": "markdown",
      "source": [
        "3) We'll generate synthetic data for a binary classification problem and use a classification model"
      ],
      "metadata": {
        "id": "VzcTw58Qo2LB"
      }
    },
    {
      "cell_type": "code",
      "source": [
        "import numpy as np\n",
        "from sklearn.datasets import make_classification\n",
        "from sklearn.linear_model import LogisticRegression\n",
        "\n",
        "# Generate synthetic data for the binary classification example\n",
        "np.random.seed(42)\n",
        "X, y = make_classification(n_samples=100, n_features=2, n_informative=2, n_redundant=0, random_state=42)\n",
        "\n",
        "# Create an instance of the logistic regression model\n",
        "classification_model = LogisticRegression()"
      ],
      "metadata": {
        "id": "WwNwlwMIo4Dy"
      },
      "execution_count": 3,
      "outputs": []
    },
    {
      "cell_type": "markdown",
      "source": [
        "In this example, we create an instance of the LogisticRegression class, which represents a logistic regression model, using classification_model = LogisticRegression()."
      ],
      "metadata": {
        "id": "WQtWEPYBpDnL"
      }
    }
  ]
}