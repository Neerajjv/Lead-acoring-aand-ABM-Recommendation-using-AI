{
  "cells": [
    {
      "cell_type": "markdown",
      "source": [
        "# Introduction to Using a Pre-Trained Model in Scikit-Learn\n",
        "# 1- Importing required libraries"
      ],
      "metadata": {
        "id": "oQ_1vaAK7vgH"
      },
      "id": "oQ_1vaAK7vgH"
    },
    {
      "cell_type": "code",
      "source": [
        "import joblib\n",
        "import numpy as np"
      ],
      "metadata": {
        "id": "qLmedLAb7wHH"
      },
      "id": "qLmedLAb7wHH",
      "execution_count": 9,
      "outputs": []
    },
    {
      "cell_type": "markdown",
      "source": [
        "2- Load the Pre-Trained Model"
      ],
      "metadata": {
        "id": "YZrFg-zi7zWw"
      },
      "id": "YZrFg-zi7zWw"
    },
    {
      "cell_type": "code",
      "source": [
        "model = joblib.load('pretrained_model.pkl')"
      ],
      "metadata": {
        "id": "A4ZVaWqo70S4"
      },
      "id": "A4ZVaWqo70S4",
      "execution_count": null,
      "outputs": []
    },
    {
      "cell_type": "markdown",
      "source": [
        "3- Upload a New Dataset"
      ],
      "metadata": {
        "id": "bkw5WAx272kI"
      },
      "id": "bkw5WAx272kI"
    },
    {
      "cell_type": "code",
      "source": [
        "new_data = np.array([[2.5], [3.0], [4.2], [5.1]])"
      ],
      "metadata": {
        "id": "PWOkpSuP74E4"
      },
      "id": "PWOkpSuP74E4",
      "execution_count": 10,
      "outputs": []
    },
    {
      "cell_type": "markdown",
      "source": [
        "4- With the pre-trained model loaded and the new dataset uploaded, we can now use the model to make predictions on the new data."
      ],
      "metadata": {
        "id": "JiYIXUdS75vI"
      },
      "id": "JiYIXUdS75vI"
    },
    {
      "cell_type": "code",
      "source": [
        "predictions = model.predict(new_data)"
      ],
      "metadata": {
        "id": "czXHQP6a7795"
      },
      "id": "czXHQP6a7795",
      "execution_count": null,
      "outputs": []
    }
  ],
  "metadata": {
    "colab": {
      "provenance": []
    },
    "language_info": {
      "name": "python"
    },
    "kernelspec": {
      "name": "python3",
      "display_name": "Python 3"
    }
  },
  "nbformat": 4,
  "nbformat_minor": 5
}