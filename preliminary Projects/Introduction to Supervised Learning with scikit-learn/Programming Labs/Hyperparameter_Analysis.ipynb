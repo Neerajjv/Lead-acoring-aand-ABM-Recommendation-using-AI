{
 "cells": [
  {
   "cell_type": "markdown",
   "id": "7dca400d",
   "metadata": {},
   "source": [
    "# Hyperparameters Analysis with SVM and Random Forest"
   ]
  },
  {
   "cell_type": "code",
   "execution_count": null,
   "id": "fc004c16",
   "metadata": {},
   "outputs": [],
   "source": [
    "\n",
    "# Step 1: Importing required libraries\n",
    "import numpy as np\n",
    "import pandas as pd\n",
    "import matplotlib.pyplot as plt\n",
    "from sklearn.model_selection import train_test_split\n",
    "from sklearn.svm import SVC\n",
    "from sklearn.ensemble import RandomForestClassifier\n"
   ]
  },
  {
   "cell_type": "markdown",
   "id": "0062a0ea",
   "metadata": {},
   "source": [
    "## Step 2: Loading and Exploring the Dataset"
   ]
  },
  {
   "cell_type": "code",
   "execution_count": null,
   "id": "2187c686",
   "metadata": {},
   "outputs": [],
   "source": [
    "\n",
    "# Load the iris dataset\n",
    "iris_df = pd.read_csv('iris_dataset.csv')\n",
    "\n",
    "# Display the first few rows of the dataset\n",
    "print(iris_df.head())\n",
    "\n",
    "# Display the structure and summary of the dataset\n",
    "print(iris_df.shape)\n",
    "print(iris_df.info())\n",
    "print(iris_df.describe())\n"
   ]
  },
  {
   "cell_type": "markdown",
   "id": "ad500c7e",
   "metadata": {},
   "source": [
    "## Step 3: Splitting Features and Target"
   ]
  },
  {
   "cell_type": "code",
   "execution_count": null,
   "id": "d57e2772",
   "metadata": {},
   "outputs": [],
   "source": [
    "\n",
    "# Separate features and target variable\n",
    "X = iris_df.drop(columns='target')\n",
    "y = iris_df['target']\n"
   ]
  },
  {
   "cell_type": "markdown",
   "id": "e18b1e25",
   "metadata": {},
   "source": [
    "## Step 4: Hyperparameter Tuning with Support Vector Machine"
   ]
  },
  {
   "cell_type": "code",
   "execution_count": null,
   "id": "68f771cd",
   "metadata": {},
   "outputs": [],
   "source": [
    "\n",
    "# Split the dataset into training and testing sets\n",
    "X_train, X_test, y_train, y_test = train_test_split(X, y, test_size=0.2, random_state=42)\n",
    "\n",
    "# Create and train an SVM model with C=0.001\n",
    "svm_model = SVC(kernel='linear', C=0.001)\n",
    "svm_model.fit(X_train, y_train)\n",
    "\n",
    "# Evaluate the model's performance\n",
    "accuracy = svm_model.score(X_test, y_test)\n",
    "print(f\"Model Accuracy with C=0.001: {accuracy:.2f}\")\n",
    "\n",
    "# Create and train another SVM model with C=1\n",
    "svm_model_rbf = SVC(kernel='linear', C=1)\n",
    "svm_model_rbf.fit(X_train, y_train)\n",
    "\n",
    "# Evaluate the model's performance\n",
    "accuracy_rbf = svm_model_rbf.score(X_test, y_test)\n",
    "print(f\"Model Accuracy with C=1: {accuracy_rbf:.2f}\")\n"
   ]
  },
  {
   "cell_type": "markdown",
   "id": "a0f4b0e4",
   "metadata": {},
   "source": [
    "## Step 5: Hyperparameter Tuning with Random Forest"
   ]
  },
  {
   "cell_type": "code",
   "execution_count": null,
   "id": "e76e2fcd",
   "metadata": {},
   "outputs": [],
   "source": [
    "\n",
    "# Create and train a Random Forest model with max_depth=2\n",
    "rf_model = RandomForestClassifier(max_depth=2, random_state=42)\n",
    "rf_model.fit(X_train, y_train)\n",
    "\n",
    "# Evaluate the model's performance\n",
    "accuracy = rf_model.score(X_test, y_test)\n",
    "print(f\"Random Forest Model Accuracy with Max Depth 2: {accuracy:.2f}\")\n",
    "\n",
    "# Create and train another Random Forest model with max_depth=5\n",
    "rf_model_depth = RandomForestClassifier(max_depth=5, random_state=42)\n",
    "rf_model_depth.fit(X_train, y_train)\n",
    "\n",
    "# Evaluate the model's performance\n",
    "accuracy_depth = rf_model_depth.score(X_test, y_test)\n",
    "print(f\"Random Forest Model Accuracy with Max Depth 5: {accuracy_depth:.2f}\")\n"
   ]
  }
 ],
 "metadata": {},
 "nbformat": 4,
 "nbformat_minor": 5
}
