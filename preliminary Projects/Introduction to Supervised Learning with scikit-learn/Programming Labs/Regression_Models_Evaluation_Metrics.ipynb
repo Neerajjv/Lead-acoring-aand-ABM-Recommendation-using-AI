{
  "nbformat": 4,
  "nbformat_minor": 0,
  "metadata": {
    "colab": {
      "provenance": []
    },
    "kernelspec": {
      "name": "python3",
      "display_name": "Python 3"
    },
    "language_info": {
      "name": "python"
    }
  },
  "cells": [
    {
      "cell_type": "markdown",
      "source": [
        "\n",
        "# 1- Importing required librariesle of how you could calculate some evaluation metrics using scikit-learn library in Python:"
      ],
      "metadata": {
        "id": "ploY2FLs2DIn"
      }
    },
    {
      "cell_type": "code",
      "source": [
        "import numpy as np\n",
        "from sklearn.linear_model import LinearRegression\n",
        "import matplotlib.pyplot as plt"
      ],
      "metadata": {
        "id": "8JY1dV5G29eO"
      },
      "execution_count": 67,
      "outputs": []
    },
    {
      "cell_type": "markdown",
      "source": [
        "2- Let's generate a simulated dataset"
      ],
      "metadata": {
        "id": "SlMIuG4S2ypt"
      }
    },
    {
      "cell_type": "code",
      "source": [
        "# Simulated dataset\n",
        "X = np.random.rand(100, 1)  # Input feature\n",
        "y = 3 * X + np.random.randn(100, 1)  # Target variable"
      ],
      "metadata": {
        "id": "M4ZWuKxG3CnP"
      },
      "execution_count": 69,
      "outputs": []
    },
    {
      "cell_type": "code",
      "source": [
        "plt.scatter(X, y)\n",
        "plt.xlabel('X')\n",
        "plt.ylabel('y')\n",
        "plt.title('Simulated Dataset')\n",
        "plt.show()"
      ],
      "metadata": {
        "colab": {
          "base_uri": "https://localhost:8080/",
          "height": 472
        },
        "id": "i34SquZv3Fwe",
        "outputId": "fe37be12-2597-4918-c333-3e1101fbd36a"
      },
      "execution_count": 70,
      "outputs": [
        {
          "output_type": "display_data",
          "data": {
            "text/plain": [
              "<Figure size 640x480 with 1 Axes>"
            ],
            "image/png": "[encoded data removed]"
          },
          "metadata": {}
        }
      ]
    },
    {
      "cell_type": "markdown",
      "source": [
        "3- Use train_test_split to split the data into training and testing sets. Split the dataset in 80% training, 20% testing, and random_state=0."
      ],
      "metadata": {
        "id": "WX9vE7Eg3MvP"
      }
    },
    {
      "cell_type": "code",
      "source": [
        "import numpy as np\n",
        "from sklearn.model_selection import train_test_split\n",
        "from sklearn.linear_model import LinearRegression\n",
        "from sklearn.metrics import mean_squared_error, mean_absolute_error, r2_score\n",
        "import matplotlib.pyplot as plt\n",
        "\n",
        "# Split the dataset into training and testing sets\n",
        "random_state = 0  # Set the random_state for reproducibility\n",
        "X_train, X_test, y_train, y_test = train_test_split(X, y, test_size=0.2, random_state=random_state)\n",
        "\n",
        "# Linear Regression\n",
        "lr = LinearRegression()  # Create an instance of the LinearRegression model\n",
        "\n",
        "# Train the model\n",
        "lr.fit(X_train, y_train)\n",
        "\n",
        "# Make predictions on the test set\n",
        "y_pred = lr.predict(X_test)\n",
        "\n",
        "# Evaluate the model\n",
        "MSE = mean_squared_error(y_test, y_pred)\n",
        "RMSE = np.sqrt(MSE)\n",
        "R2 = r2_score(y_test, y_pred)\n",
        "\n",
        "# Output the evaluation metrics\n",
        "print(f\"Mean Squared Error (MSE): {MSE}\")\n",
        "print(f\"Root Mean Squared Error (RMSE): {RMSE}\")\n",
        "print(f\"R-squared (R²) Score: {R2}\")"
      ],
      "metadata": {
        "colab": {
          "base_uri": "https://localhost:8080/"
        },
        "id": "_wa9yBAQ3NQI",
        "outputId": "c10d3ade-ebb0-49ee-afe8-893074ab244b"
      },
      "execution_count": 72,
      "outputs": [
        {
          "output_type": "stream",
          "name": "stdout",
          "text": [
            "Mean Squared Error (MSE): 1.6452262194652225\n",
            "Root Mean Squared Error (RMSE): 1.2826637203356235\n",
            "R-squared (R²) Score: -0.024322852395196826\n"
          ]
        }
      ]
    }
  ]
}