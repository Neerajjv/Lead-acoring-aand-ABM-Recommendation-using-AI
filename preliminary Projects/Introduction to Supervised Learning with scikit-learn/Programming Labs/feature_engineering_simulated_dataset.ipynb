{
  "cells": [
    {
      "cell_type": "markdown",
      "id": "2085aecc",
      "metadata": {
        "id": "2085aecc"
      },
      "source": [
        "# Introduction to Feature Engineering with Simulated Dataset"
      ]
    },
    {
      "cell_type": "code",
      "execution_count": 1,
      "id": "af030611",
      "metadata": {
        "colab": {
          "base_uri": "https://localhost:8080/"
        },
        "id": "af030611",
        "outputId": "fd23906d-acef-466f-ff55-8edb46ca49f8"
      },
      "outputs": [
        {
          "output_type": "stream",
          "name": "stdout",
          "text": [
            "    Category   Numeric\n",
            "0  Category3  0.582123\n",
            "1  Category1       NaN\n",
            "2  Category3  0.894332\n",
            "3  Category3  0.754998\n",
            "4  Category1 -0.207166\n"
          ]
        }
      ],
      "source": [
        "\n",
        "import pandas as pd\n",
        "import numpy as np\n",
        "\n",
        "# Set random seed for reproducibility\n",
        "np.random.seed(42)\n",
        "\n",
        "# Generate random categorical variables\n",
        "categories = ['Category1', 'Category2', 'Category3']\n",
        "categorical_data = np.random.choice(categories, size=100, replace=True)\n",
        "\n",
        "# Generate random numerical variables\n",
        "numerical_data = np.random.normal(loc=0, scale=1, size=100)\n",
        "\n",
        "# Generate random missing values\n",
        "missing_mask = np.random.choice([True, False], size=100, p=[0.2, 0.8])\n",
        "numerical_data[missing_mask] = np.nan\n",
        "\n",
        "# Create a DataFrame\n",
        "data = pd.DataFrame({\n",
        "    'Category': categorical_data,\n",
        "    'Numeric': numerical_data\n",
        "})\n",
        "\n",
        "# Print the DataFrame\n",
        "print(data.head())\n",
        ""
      ]
    },
    {
      "cell_type": "markdown",
      "id": "6e6f10c4",
      "metadata": {
        "id": "6e6f10c4"
      },
      "source": [
        "## 1. Encoding Categorical Variables"
      ]
    },
    {
      "cell_type": "code",
      "execution_count": 2,
      "id": "55fbd549",
      "metadata": {
        "colab": {
          "base_uri": "https://localhost:8080/"
        },
        "id": "55fbd549",
        "outputId": "c4ed1ebe-de14-422f-e73b-85db84546353"
      },
      "outputs": [
        {
          "output_type": "stream",
          "name": "stdout",
          "text": [
            "    Numeric  Category_Category1  Category_Category2  Category_Category3\n",
            "0  0.582123               False               False                True\n",
            "1       NaN                True               False               False\n",
            "2  0.894332               False               False                True\n",
            "3  0.754998               False               False                True\n",
            "4 -0.207166                True               False               False\n"
          ]
        }
      ],
      "source": [
        "\n",
        "# Convert categorical variables into numerical representations\n",
        "df_encoded = pd.get_dummies(data, columns=['Category'])\n",
        "\n",
        "# Print the encoded DataFrame\n",
        "print(df_encoded.head())\n",
        ""
      ]
    },
    {
      "cell_type": "markdown",
      "id": "b5e7f20e",
      "metadata": {
        "id": "b5e7f20e"
      },
      "source": [
        "## 2. Handling Missing Values"
      ]
    },
    {
      "cell_type": "code",
      "execution_count": 3,
      "id": "6ccf7bb1",
      "metadata": {
        "colab": {
          "base_uri": "https://localhost:8080/"
        },
        "id": "6ccf7bb1",
        "outputId": "b310f6f1-197a-4bbf-8417-bfc72e31d908"
      },
      "outputs": [
        {
          "output_type": "stream",
          "name": "stdout",
          "text": [
            "    Numeric  Category_Category1  Category_Category2  Category_Category3\n",
            "0  0.582123               False               False                True\n",
            "1 -0.014239                True               False               False\n",
            "2  0.894332               False               False                True\n",
            "3  0.754998               False               False                True\n",
            "4 -0.207166                True               False               False\n"
          ]
        }
      ],
      "source": [
        "\n",
        "# Replace missing values with the mean\n",
        "df_filled = df_encoded.fillna(df_encoded.mean())\n",
        "\n",
        "# Print the DataFrame after handling missing values\n",
        "print(df_filled.head())\n",
        ""
      ]
    },
    {
      "cell_type": "markdown",
      "id": "7850c263",
      "metadata": {
        "id": "7850c263"
      },
      "source": [
        "## 3. Creating New Features"
      ]
    },
    {
      "cell_type": "code",
      "execution_count": 4,
      "id": "f078a244",
      "metadata": {
        "colab": {
          "base_uri": "https://localhost:8080/"
        },
        "id": "f078a244",
        "outputId": "7e53f044-fe29-482f-e650-5a29277982e6"
      },
      "outputs": [
        {
          "output_type": "stream",
          "name": "stdout",
          "text": [
            "    Numeric  Category_Category1  Category_Category2  Category_Category3  \\\n",
            "0  0.582123               False               False                True   \n",
            "1 -0.014239                True               False               False   \n",
            "2  0.894332               False               False                True   \n",
            "3  0.754998               False               False                True   \n",
            "4 -0.207166                True               False               False   \n",
            "\n",
            "   Feature1_squared  Feature2_cubed  Feature3_log  \n",
            "0          0.338867        0.197262     -0.541074  \n",
            "1          0.000203       -0.000003           NaN  \n",
            "2          0.799830        0.715314     -0.111678  \n",
            "3          0.570022        0.430365     -0.281040  \n",
            "4          0.042918       -0.008891           NaN  \n"
          ]
        },
        {
          "output_type": "stream",
          "name": "stderr",
          "text": [
            "/usr/local/lib/python3.10/dist-packages/pandas/core/arraylike.py:399: RuntimeWarning: invalid value encountered in log\n",
            "  result = getattr(ufunc, method)(*inputs, **kwargs)\n"
          ]
        }
      ],
      "source": [
        "\n",
        "# Create new derived features\n",
        "df_filled['Feature1_squared'] = df_filled['Numeric']**2\n",
        "df_filled['Feature2_cubed'] = df_filled['Numeric']**3\n",
        "\n",
        "# Calculate log of numeric values, handling negative or zero values\n",
        "df_filled['Feature3_log'] = np.log(df_filled['Numeric'].replace({0: np.nan, -np.inf: np.nan}))\n",
        "\n",
        "# Print the updated DataFrame\n",
        "print(df_filled.head())\n",
        ""
      ]
    }
  ],
  "metadata": {
    "colab": {
      "provenance": []
    },
    "language_info": {
      "name": "python"
    },
    "kernelspec": {
      "name": "python3",
      "display_name": "Python 3"
    }
  },
  "nbformat": 4,
  "nbformat_minor": 5
}